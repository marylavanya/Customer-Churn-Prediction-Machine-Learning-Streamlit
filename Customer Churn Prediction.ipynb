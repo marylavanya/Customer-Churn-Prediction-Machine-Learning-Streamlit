{
 "cells": [
  {
   "cell_type": "markdown",
   "id": "f9398d70",
   "metadata": {},
   "source": [
    "#  Customer Churn Prediction Using ML Models\n",
    "\n",
    "## Project Summary: \n",
    "\n",
    "- **Goal**: Predict customer churn using machine learning models to identify which customers are likely to leave.\n",
    "- **Best Model**: GradientBoosting with F1-score = 0.91\n",
    "- **Business Use**: Helps retain customers by early churn prediction.\n"
   ]
  },
  {
   "cell_type": "markdown",
   "id": "1b89c83f",
   "metadata": {},
   "source": [
    "#### Importing Libraries and Data Set"
   ]
  },
  {
   "cell_type": "code",
   "execution_count": 1,
   "id": "9c461824",
   "metadata": {},
   "outputs": [],
   "source": [
    "import pandas as pd\n",
    "import numpy as np\n",
    "import seaborn as sns\n",
    "import matplotlib.pyplot as plt\n",
    "import joblib\n",
    "from sklearn.model_selection import train_test_split, GridSearchCV\n",
    "from sklearn.metrics import (accuracy_score, roc_auc_score) \n",
    "from sklearn.metrics import (classification_report, confusion_matrix)\n",
    "from imblearn.over_sampling import SMOTE\n",
    "from xgboost import XGBClassifier\n",
    "from sklearn.ensemble import GradientBoostingClassifier, RandomForestClassifier \n",
    "from catboost import CatBoostClassifier\n",
    "from sklearn.tree import DecisionTreeClassifier\n",
    "\n",
    "import warnings\n",
    "warnings.filterwarnings('ignore')"
   ]
  },
  {
   "cell_type": "code",
   "execution_count": 2,
   "id": "9abf8d1a",
   "metadata": {},
   "outputs": [],
   "source": [
    "# Load the dataset\n",
    "df = pd.read_csv(r'C:\\Customer_Churn_Data.csv')"
   ]
  },
  {
   "cell_type": "markdown",
   "id": "96643b0a",
   "metadata": {},
   "source": [
    "#### Understanding the Data"
   ]
  },
  {
   "cell_type": "code",
   "execution_count": 3,
   "id": "f89c0a1a",
   "metadata": {},
   "outputs": [
    {
     "name": "stdout",
     "output_type": "stream",
     "text": [
      "<class 'pandas.core.frame.DataFrame'>\n",
      "RangeIndex: 1000 entries, 0 to 999\n",
      "Data columns (total 10 columns):\n",
      " #   Column           Non-Null Count  Dtype  \n",
      "---  ------           --------------  -----  \n",
      " 0   CustomerID       1000 non-null   int64  \n",
      " 1   Age              1000 non-null   int64  \n",
      " 2   Gender           1000 non-null   object \n",
      " 3   Tenure           1000 non-null   int64  \n",
      " 4   MonthlyCharges   1000 non-null   float64\n",
      " 5   ContractType     1000 non-null   object \n",
      " 6   InternetService  703 non-null    object \n",
      " 7   TotalCharges     1000 non-null   float64\n",
      " 8   TechSupport      1000 non-null   object \n",
      " 9   Churn            1000 non-null   object \n",
      "dtypes: float64(2), int64(3), object(5)\n",
      "memory usage: 78.3+ KB\n"
     ]
    }
   ],
   "source": [
    "df.info()"
   ]
  },
  {
   "cell_type": "code",
   "execution_count": 4,
   "id": "af39f0f9",
   "metadata": {},
   "outputs": [
    {
     "data": {
      "text/html": [
       "<div>\n",
       "<style scoped>\n",
       "    .dataframe tbody tr th:only-of-type {\n",
       "        vertical-align: middle;\n",
       "    }\n",
       "\n",
       "    .dataframe tbody tr th {\n",
       "        vertical-align: top;\n",
       "    }\n",
       "\n",
       "    .dataframe thead th {\n",
       "        text-align: right;\n",
       "    }\n",
       "</style>\n",
       "<table border=\"1\" class=\"dataframe\">\n",
       "  <thead>\n",
       "    <tr style=\"text-align: right;\">\n",
       "      <th></th>\n",
       "      <th>CustomerID</th>\n",
       "      <th>Age</th>\n",
       "      <th>Gender</th>\n",
       "      <th>Tenure</th>\n",
       "      <th>MonthlyCharges</th>\n",
       "      <th>ContractType</th>\n",
       "      <th>InternetService</th>\n",
       "      <th>TotalCharges</th>\n",
       "      <th>TechSupport</th>\n",
       "      <th>Churn</th>\n",
       "    </tr>\n",
       "  </thead>\n",
       "  <tbody>\n",
       "    <tr>\n",
       "      <th>0</th>\n",
       "      <td>1</td>\n",
       "      <td>49</td>\n",
       "      <td>Male</td>\n",
       "      <td>4</td>\n",
       "      <td>88.35</td>\n",
       "      <td>Month-to-Month</td>\n",
       "      <td>Fiber Optic</td>\n",
       "      <td>353.40</td>\n",
       "      <td>Yes</td>\n",
       "      <td>Yes</td>\n",
       "    </tr>\n",
       "    <tr>\n",
       "      <th>1</th>\n",
       "      <td>2</td>\n",
       "      <td>43</td>\n",
       "      <td>Male</td>\n",
       "      <td>0</td>\n",
       "      <td>36.67</td>\n",
       "      <td>Month-to-Month</td>\n",
       "      <td>Fiber Optic</td>\n",
       "      <td>0.00</td>\n",
       "      <td>Yes</td>\n",
       "      <td>Yes</td>\n",
       "    </tr>\n",
       "    <tr>\n",
       "      <th>2</th>\n",
       "      <td>3</td>\n",
       "      <td>51</td>\n",
       "      <td>Female</td>\n",
       "      <td>2</td>\n",
       "      <td>63.79</td>\n",
       "      <td>Month-to-Month</td>\n",
       "      <td>Fiber Optic</td>\n",
       "      <td>127.58</td>\n",
       "      <td>No</td>\n",
       "      <td>Yes</td>\n",
       "    </tr>\n",
       "    <tr>\n",
       "      <th>3</th>\n",
       "      <td>4</td>\n",
       "      <td>60</td>\n",
       "      <td>Female</td>\n",
       "      <td>8</td>\n",
       "      <td>102.34</td>\n",
       "      <td>One-Year</td>\n",
       "      <td>DSL</td>\n",
       "      <td>818.72</td>\n",
       "      <td>Yes</td>\n",
       "      <td>Yes</td>\n",
       "    </tr>\n",
       "    <tr>\n",
       "      <th>4</th>\n",
       "      <td>5</td>\n",
       "      <td>42</td>\n",
       "      <td>Male</td>\n",
       "      <td>32</td>\n",
       "      <td>69.01</td>\n",
       "      <td>Month-to-Month</td>\n",
       "      <td>NaN</td>\n",
       "      <td>2208.32</td>\n",
       "      <td>No</td>\n",
       "      <td>Yes</td>\n",
       "    </tr>\n",
       "  </tbody>\n",
       "</table>\n",
       "</div>"
      ],
      "text/plain": [
       "   CustomerID  Age  Gender  Tenure  MonthlyCharges    ContractType  \\\n",
       "0           1   49    Male       4           88.35  Month-to-Month   \n",
       "1           2   43    Male       0           36.67  Month-to-Month   \n",
       "2           3   51  Female       2           63.79  Month-to-Month   \n",
       "3           4   60  Female       8          102.34        One-Year   \n",
       "4           5   42    Male      32           69.01  Month-to-Month   \n",
       "\n",
       "  InternetService  TotalCharges TechSupport Churn  \n",
       "0     Fiber Optic        353.40         Yes   Yes  \n",
       "1     Fiber Optic          0.00         Yes   Yes  \n",
       "2     Fiber Optic        127.58          No   Yes  \n",
       "3             DSL        818.72         Yes   Yes  \n",
       "4             NaN       2208.32          No   Yes  "
      ]
     },
     "execution_count": 4,
     "metadata": {},
     "output_type": "execute_result"
    }
   ],
   "source": [
    "df.head()"
   ]
  },
  {
   "cell_type": "code",
   "execution_count": 5,
   "id": "0cb3425a",
   "metadata": {},
   "outputs": [
    {
     "data": {
      "text/html": [
       "<div>\n",
       "<style scoped>\n",
       "    .dataframe tbody tr th:only-of-type {\n",
       "        vertical-align: middle;\n",
       "    }\n",
       "\n",
       "    .dataframe tbody tr th {\n",
       "        vertical-align: top;\n",
       "    }\n",
       "\n",
       "    .dataframe thead th {\n",
       "        text-align: right;\n",
       "    }\n",
       "</style>\n",
       "<table border=\"1\" class=\"dataframe\">\n",
       "  <thead>\n",
       "    <tr style=\"text-align: right;\">\n",
       "      <th></th>\n",
       "      <th>CustomerID</th>\n",
       "      <th>Age</th>\n",
       "      <th>Gender</th>\n",
       "      <th>Tenure</th>\n",
       "      <th>MonthlyCharges</th>\n",
       "      <th>ContractType</th>\n",
       "      <th>InternetService</th>\n",
       "      <th>TotalCharges</th>\n",
       "      <th>TechSupport</th>\n",
       "      <th>Churn</th>\n",
       "    </tr>\n",
       "  </thead>\n",
       "  <tbody>\n",
       "    <tr>\n",
       "      <th>995</th>\n",
       "      <td>996</td>\n",
       "      <td>42</td>\n",
       "      <td>Male</td>\n",
       "      <td>41</td>\n",
       "      <td>37.14</td>\n",
       "      <td>Month-to-Month</td>\n",
       "      <td>Fiber Optic</td>\n",
       "      <td>1522.74</td>\n",
       "      <td>Yes</td>\n",
       "      <td>Yes</td>\n",
       "    </tr>\n",
       "    <tr>\n",
       "      <th>996</th>\n",
       "      <td>997</td>\n",
       "      <td>62</td>\n",
       "      <td>Male</td>\n",
       "      <td>9</td>\n",
       "      <td>80.93</td>\n",
       "      <td>Month-to-Month</td>\n",
       "      <td>NaN</td>\n",
       "      <td>728.37</td>\n",
       "      <td>No</td>\n",
       "      <td>Yes</td>\n",
       "    </tr>\n",
       "    <tr>\n",
       "      <th>997</th>\n",
       "      <td>998</td>\n",
       "      <td>51</td>\n",
       "      <td>Female</td>\n",
       "      <td>15</td>\n",
       "      <td>111.72</td>\n",
       "      <td>Month-to-Month</td>\n",
       "      <td>Fiber Optic</td>\n",
       "      <td>1675.80</td>\n",
       "      <td>Yes</td>\n",
       "      <td>Yes</td>\n",
       "    </tr>\n",
       "    <tr>\n",
       "      <th>998</th>\n",
       "      <td>999</td>\n",
       "      <td>39</td>\n",
       "      <td>Male</td>\n",
       "      <td>68</td>\n",
       "      <td>65.67</td>\n",
       "      <td>One-Year</td>\n",
       "      <td>NaN</td>\n",
       "      <td>4465.56</td>\n",
       "      <td>No</td>\n",
       "      <td>Yes</td>\n",
       "    </tr>\n",
       "    <tr>\n",
       "      <th>999</th>\n",
       "      <td>1000</td>\n",
       "      <td>50</td>\n",
       "      <td>Male</td>\n",
       "      <td>1</td>\n",
       "      <td>56.67</td>\n",
       "      <td>Month-to-Month</td>\n",
       "      <td>NaN</td>\n",
       "      <td>56.67</td>\n",
       "      <td>No</td>\n",
       "      <td>Yes</td>\n",
       "    </tr>\n",
       "  </tbody>\n",
       "</table>\n",
       "</div>"
      ],
      "text/plain": [
       "     CustomerID  Age  Gender  Tenure  MonthlyCharges    ContractType  \\\n",
       "995         996   42    Male      41           37.14  Month-to-Month   \n",
       "996         997   62    Male       9           80.93  Month-to-Month   \n",
       "997         998   51  Female      15          111.72  Month-to-Month   \n",
       "998         999   39    Male      68           65.67        One-Year   \n",
       "999        1000   50    Male       1           56.67  Month-to-Month   \n",
       "\n",
       "    InternetService  TotalCharges TechSupport Churn  \n",
       "995     Fiber Optic       1522.74         Yes   Yes  \n",
       "996             NaN        728.37          No   Yes  \n",
       "997     Fiber Optic       1675.80         Yes   Yes  \n",
       "998             NaN       4465.56          No   Yes  \n",
       "999             NaN         56.67          No   Yes  "
      ]
     },
     "execution_count": 5,
     "metadata": {},
     "output_type": "execute_result"
    }
   ],
   "source": [
    "df.tail()"
   ]
  },
  {
   "cell_type": "code",
   "execution_count": 6,
   "id": "0eff748a",
   "metadata": {},
   "outputs": [
    {
     "data": {
      "text/plain": [
       "Index(['CustomerID', 'Age', 'Gender', 'Tenure', 'MonthlyCharges',\n",
       "       'ContractType', 'InternetService', 'TotalCharges', 'TechSupport',\n",
       "       'Churn'],\n",
       "      dtype='object')"
      ]
     },
     "execution_count": 6,
     "metadata": {},
     "output_type": "execute_result"
    }
   ],
   "source": [
    "df.columns"
   ]
  },
  {
   "cell_type": "code",
   "execution_count": 7,
   "id": "fa5c7a57",
   "metadata": {},
   "outputs": [
    {
     "data": {
      "text/html": [
       "<div>\n",
       "<style scoped>\n",
       "    .dataframe tbody tr th:only-of-type {\n",
       "        vertical-align: middle;\n",
       "    }\n",
       "\n",
       "    .dataframe tbody tr th {\n",
       "        vertical-align: top;\n",
       "    }\n",
       "\n",
       "    .dataframe thead th {\n",
       "        text-align: right;\n",
       "    }\n",
       "</style>\n",
       "<table border=\"1\" class=\"dataframe\">\n",
       "  <thead>\n",
       "    <tr style=\"text-align: right;\">\n",
       "      <th></th>\n",
       "      <th>CustomerID</th>\n",
       "      <th>Age</th>\n",
       "      <th>Tenure</th>\n",
       "      <th>MonthlyCharges</th>\n",
       "      <th>TotalCharges</th>\n",
       "    </tr>\n",
       "  </thead>\n",
       "  <tbody>\n",
       "    <tr>\n",
       "      <th>count</th>\n",
       "      <td>1000.000000</td>\n",
       "      <td>1000.000000</td>\n",
       "      <td>1000.00000</td>\n",
       "      <td>1000.000000</td>\n",
       "      <td>1000.000000</td>\n",
       "    </tr>\n",
       "    <tr>\n",
       "      <th>mean</th>\n",
       "      <td>500.500000</td>\n",
       "      <td>44.674000</td>\n",
       "      <td>18.97300</td>\n",
       "      <td>74.391290</td>\n",
       "      <td>1404.364060</td>\n",
       "    </tr>\n",
       "    <tr>\n",
       "      <th>std</th>\n",
       "      <td>288.819436</td>\n",
       "      <td>9.797741</td>\n",
       "      <td>18.89257</td>\n",
       "      <td>25.712083</td>\n",
       "      <td>1571.755048</td>\n",
       "    </tr>\n",
       "    <tr>\n",
       "      <th>min</th>\n",
       "      <td>1.000000</td>\n",
       "      <td>12.000000</td>\n",
       "      <td>0.00000</td>\n",
       "      <td>30.000000</td>\n",
       "      <td>0.000000</td>\n",
       "    </tr>\n",
       "    <tr>\n",
       "      <th>25%</th>\n",
       "      <td>250.750000</td>\n",
       "      <td>38.000000</td>\n",
       "      <td>5.00000</td>\n",
       "      <td>52.357500</td>\n",
       "      <td>345.217500</td>\n",
       "    </tr>\n",
       "    <tr>\n",
       "      <th>50%</th>\n",
       "      <td>500.500000</td>\n",
       "      <td>45.000000</td>\n",
       "      <td>13.00000</td>\n",
       "      <td>74.060000</td>\n",
       "      <td>872.870000</td>\n",
       "    </tr>\n",
       "    <tr>\n",
       "      <th>75%</th>\n",
       "      <td>750.250000</td>\n",
       "      <td>51.000000</td>\n",
       "      <td>26.00000</td>\n",
       "      <td>96.102500</td>\n",
       "      <td>1900.175000</td>\n",
       "    </tr>\n",
       "    <tr>\n",
       "      <th>max</th>\n",
       "      <td>1000.000000</td>\n",
       "      <td>83.000000</td>\n",
       "      <td>122.00000</td>\n",
       "      <td>119.960000</td>\n",
       "      <td>12416.250000</td>\n",
       "    </tr>\n",
       "  </tbody>\n",
       "</table>\n",
       "</div>"
      ],
      "text/plain": [
       "        CustomerID          Age      Tenure  MonthlyCharges  TotalCharges\n",
       "count  1000.000000  1000.000000  1000.00000     1000.000000   1000.000000\n",
       "mean    500.500000    44.674000    18.97300       74.391290   1404.364060\n",
       "std     288.819436     9.797741    18.89257       25.712083   1571.755048\n",
       "min       1.000000    12.000000     0.00000       30.000000      0.000000\n",
       "25%     250.750000    38.000000     5.00000       52.357500    345.217500\n",
       "50%     500.500000    45.000000    13.00000       74.060000    872.870000\n",
       "75%     750.250000    51.000000    26.00000       96.102500   1900.175000\n",
       "max    1000.000000    83.000000   122.00000      119.960000  12416.250000"
      ]
     },
     "execution_count": 7,
     "metadata": {},
     "output_type": "execute_result"
    }
   ],
   "source": [
    "df.describe()"
   ]
  },
  {
   "cell_type": "markdown",
   "id": "8a5e6695",
   "metadata": {},
   "source": [
    "#### Data Cleaning"
   ]
  },
  {
   "cell_type": "code",
   "execution_count": 8,
   "id": "b0d7ff55",
   "metadata": {},
   "outputs": [
    {
     "data": {
      "text/plain": [
       "CustomerID           0\n",
       "Age                  0\n",
       "Gender               0\n",
       "Tenure               0\n",
       "MonthlyCharges       0\n",
       "ContractType         0\n",
       "InternetService    297\n",
       "TotalCharges         0\n",
       "TechSupport          0\n",
       "Churn                0\n",
       "dtype: int64"
      ]
     },
     "execution_count": 8,
     "metadata": {},
     "output_type": "execute_result"
    }
   ],
   "source": [
    "# Checking for null values\n",
    "df.isnull().sum()"
   ]
  },
  {
   "cell_type": "code",
   "execution_count": 9,
   "id": "4560e528",
   "metadata": {},
   "outputs": [],
   "source": [
    "df[\"InternetService\"] = df[\"InternetService\"].fillna(\"\")"
   ]
  },
  {
   "cell_type": "code",
   "execution_count": 10,
   "id": "89b38f54",
   "metadata": {},
   "outputs": [
    {
     "data": {
      "text/plain": [
       "CustomerID         0\n",
       "Age                0\n",
       "Gender             0\n",
       "Tenure             0\n",
       "MonthlyCharges     0\n",
       "ContractType       0\n",
       "InternetService    0\n",
       "TotalCharges       0\n",
       "TechSupport        0\n",
       "Churn              0\n",
       "dtype: int64"
      ]
     },
     "execution_count": 10,
     "metadata": {},
     "output_type": "execute_result"
    }
   ],
   "source": [
    "df.isnull().sum()"
   ]
  },
  {
   "cell_type": "code",
   "execution_count": 11,
   "id": "87f2125f",
   "metadata": {},
   "outputs": [
    {
     "data": {
      "text/plain": [
       "0"
      ]
     },
     "execution_count": 11,
     "metadata": {},
     "output_type": "execute_result"
    }
   ],
   "source": [
    "df.duplicated().sum()"
   ]
  },
  {
   "cell_type": "code",
   "execution_count": 12,
   "id": "119a9b6e",
   "metadata": {},
   "outputs": [],
   "source": [
    "y = df[[\"Churn\"]]\n",
    "X = df[[\"Age\",\"Gender\",\"Tenure\",\"MonthlyCharges\"]]"
   ]
  },
  {
   "cell_type": "markdown",
   "id": "70975a93",
   "metadata": {},
   "source": [
    "#####  Used  Age, Gender, Tenure, and MonthlyCharges to keep the model simple, fast, and interpretable. These features are always available and provide strong signals for predicting churn without relying on complex service data."
   ]
  },
  {
   "cell_type": "code",
   "execution_count": 13,
   "id": "579d31cb",
   "metadata": {},
   "outputs": [],
   "source": [
    "X[\"Gender\"] = X[\"Gender\"].apply(lambda x: 1 if x == \"Female\" else 0) \n",
    "y[\"Churn\"] = y[\"Churn\"].apply(lambda x: 1 if x == \"Yes\" else 0)"
   ]
  },
  {
   "cell_type": "code",
   "execution_count": 14,
   "id": "21a438fd",
   "metadata": {},
   "outputs": [
    {
     "data": {
      "text/html": [
       "<div>\n",
       "<style scoped>\n",
       "    .dataframe tbody tr th:only-of-type {\n",
       "        vertical-align: middle;\n",
       "    }\n",
       "\n",
       "    .dataframe tbody tr th {\n",
       "        vertical-align: top;\n",
       "    }\n",
       "\n",
       "    .dataframe thead th {\n",
       "        text-align: right;\n",
       "    }\n",
       "</style>\n",
       "<table border=\"1\" class=\"dataframe\">\n",
       "  <thead>\n",
       "    <tr style=\"text-align: right;\">\n",
       "      <th></th>\n",
       "      <th>Age</th>\n",
       "      <th>Gender</th>\n",
       "      <th>Tenure</th>\n",
       "      <th>MonthlyCharges</th>\n",
       "    </tr>\n",
       "  </thead>\n",
       "  <tbody>\n",
       "    <tr>\n",
       "      <th>0</th>\n",
       "      <td>49</td>\n",
       "      <td>0</td>\n",
       "      <td>4</td>\n",
       "      <td>88.35</td>\n",
       "    </tr>\n",
       "    <tr>\n",
       "      <th>1</th>\n",
       "      <td>43</td>\n",
       "      <td>0</td>\n",
       "      <td>0</td>\n",
       "      <td>36.67</td>\n",
       "    </tr>\n",
       "    <tr>\n",
       "      <th>2</th>\n",
       "      <td>51</td>\n",
       "      <td>1</td>\n",
       "      <td>2</td>\n",
       "      <td>63.79</td>\n",
       "    </tr>\n",
       "    <tr>\n",
       "      <th>3</th>\n",
       "      <td>60</td>\n",
       "      <td>1</td>\n",
       "      <td>8</td>\n",
       "      <td>102.34</td>\n",
       "    </tr>\n",
       "    <tr>\n",
       "      <th>4</th>\n",
       "      <td>42</td>\n",
       "      <td>0</td>\n",
       "      <td>32</td>\n",
       "      <td>69.01</td>\n",
       "    </tr>\n",
       "    <tr>\n",
       "      <th>...</th>\n",
       "      <td>...</td>\n",
       "      <td>...</td>\n",
       "      <td>...</td>\n",
       "      <td>...</td>\n",
       "    </tr>\n",
       "    <tr>\n",
       "      <th>995</th>\n",
       "      <td>42</td>\n",
       "      <td>0</td>\n",
       "      <td>41</td>\n",
       "      <td>37.14</td>\n",
       "    </tr>\n",
       "    <tr>\n",
       "      <th>996</th>\n",
       "      <td>62</td>\n",
       "      <td>0</td>\n",
       "      <td>9</td>\n",
       "      <td>80.93</td>\n",
       "    </tr>\n",
       "    <tr>\n",
       "      <th>997</th>\n",
       "      <td>51</td>\n",
       "      <td>1</td>\n",
       "      <td>15</td>\n",
       "      <td>111.72</td>\n",
       "    </tr>\n",
       "    <tr>\n",
       "      <th>998</th>\n",
       "      <td>39</td>\n",
       "      <td>0</td>\n",
       "      <td>68</td>\n",
       "      <td>65.67</td>\n",
       "    </tr>\n",
       "    <tr>\n",
       "      <th>999</th>\n",
       "      <td>50</td>\n",
       "      <td>0</td>\n",
       "      <td>1</td>\n",
       "      <td>56.67</td>\n",
       "    </tr>\n",
       "  </tbody>\n",
       "</table>\n",
       "<p>1000 rows × 4 columns</p>\n",
       "</div>"
      ],
      "text/plain": [
       "     Age  Gender  Tenure  MonthlyCharges\n",
       "0     49       0       4           88.35\n",
       "1     43       0       0           36.67\n",
       "2     51       1       2           63.79\n",
       "3     60       1       8          102.34\n",
       "4     42       0      32           69.01\n",
       "..   ...     ...     ...             ...\n",
       "995   42       0      41           37.14\n",
       "996   62       0       9           80.93\n",
       "997   51       1      15          111.72\n",
       "998   39       0      68           65.67\n",
       "999   50       0       1           56.67\n",
       "\n",
       "[1000 rows x 4 columns]"
      ]
     },
     "execution_count": 14,
     "metadata": {},
     "output_type": "execute_result"
    }
   ],
   "source": [
    "X"
   ]
  },
  {
   "cell_type": "code",
   "execution_count": 15,
   "id": "a1022dc1",
   "metadata": {},
   "outputs": [
    {
     "data": {
      "text/html": [
       "<div>\n",
       "<style scoped>\n",
       "    .dataframe tbody tr th:only-of-type {\n",
       "        vertical-align: middle;\n",
       "    }\n",
       "\n",
       "    .dataframe tbody tr th {\n",
       "        vertical-align: top;\n",
       "    }\n",
       "\n",
       "    .dataframe thead th {\n",
       "        text-align: right;\n",
       "    }\n",
       "</style>\n",
       "<table border=\"1\" class=\"dataframe\">\n",
       "  <thead>\n",
       "    <tr style=\"text-align: right;\">\n",
       "      <th></th>\n",
       "      <th>Churn</th>\n",
       "    </tr>\n",
       "  </thead>\n",
       "  <tbody>\n",
       "    <tr>\n",
       "      <th>0</th>\n",
       "      <td>1</td>\n",
       "    </tr>\n",
       "    <tr>\n",
       "      <th>1</th>\n",
       "      <td>1</td>\n",
       "    </tr>\n",
       "    <tr>\n",
       "      <th>2</th>\n",
       "      <td>1</td>\n",
       "    </tr>\n",
       "    <tr>\n",
       "      <th>3</th>\n",
       "      <td>1</td>\n",
       "    </tr>\n",
       "    <tr>\n",
       "      <th>4</th>\n",
       "      <td>1</td>\n",
       "    </tr>\n",
       "    <tr>\n",
       "      <th>...</th>\n",
       "      <td>...</td>\n",
       "    </tr>\n",
       "    <tr>\n",
       "      <th>995</th>\n",
       "      <td>1</td>\n",
       "    </tr>\n",
       "    <tr>\n",
       "      <th>996</th>\n",
       "      <td>1</td>\n",
       "    </tr>\n",
       "    <tr>\n",
       "      <th>997</th>\n",
       "      <td>1</td>\n",
       "    </tr>\n",
       "    <tr>\n",
       "      <th>998</th>\n",
       "      <td>1</td>\n",
       "    </tr>\n",
       "    <tr>\n",
       "      <th>999</th>\n",
       "      <td>1</td>\n",
       "    </tr>\n",
       "  </tbody>\n",
       "</table>\n",
       "<p>1000 rows × 1 columns</p>\n",
       "</div>"
      ],
      "text/plain": [
       "     Churn\n",
       "0        1\n",
       "1        1\n",
       "2        1\n",
       "3        1\n",
       "4        1\n",
       "..     ...\n",
       "995      1\n",
       "996      1\n",
       "997      1\n",
       "998      1\n",
       "999      1\n",
       "\n",
       "[1000 rows x 1 columns]"
      ]
     },
     "execution_count": 15,
     "metadata": {},
     "output_type": "execute_result"
    }
   ],
   "source": [
    "y"
   ]
  },
  {
   "cell_type": "markdown",
   "id": "5c22c860",
   "metadata": {},
   "source": [
    "#### Exploratory Data Analysis (EDA)"
   ]
  },
  {
   "cell_type": "code",
   "execution_count": 16,
   "id": "ffb3c5f1",
   "metadata": {},
   "outputs": [],
   "source": [
    "numeric_columns_data = df.select_dtypes(include = [\"number\"])"
   ]
  },
  {
   "cell_type": "code",
   "execution_count": 17,
   "id": "111bef73",
   "metadata": {},
   "outputs": [
    {
     "data": {
      "text/html": [
       "<div>\n",
       "<style scoped>\n",
       "    .dataframe tbody tr th:only-of-type {\n",
       "        vertical-align: middle;\n",
       "    }\n",
       "\n",
       "    .dataframe tbody tr th {\n",
       "        vertical-align: top;\n",
       "    }\n",
       "\n",
       "    .dataframe thead th {\n",
       "        text-align: right;\n",
       "    }\n",
       "</style>\n",
       "<table border=\"1\" class=\"dataframe\">\n",
       "  <thead>\n",
       "    <tr style=\"text-align: right;\">\n",
       "      <th></th>\n",
       "      <th>CustomerID</th>\n",
       "      <th>Age</th>\n",
       "      <th>Tenure</th>\n",
       "      <th>MonthlyCharges</th>\n",
       "      <th>TotalCharges</th>\n",
       "    </tr>\n",
       "  </thead>\n",
       "  <tbody>\n",
       "    <tr>\n",
       "      <th>CustomerID</th>\n",
       "      <td>1.000000</td>\n",
       "      <td>0.036730</td>\n",
       "      <td>-0.018585</td>\n",
       "      <td>-0.030504</td>\n",
       "      <td>-0.027490</td>\n",
       "    </tr>\n",
       "    <tr>\n",
       "      <th>Age</th>\n",
       "      <td>0.036730</td>\n",
       "      <td>1.000000</td>\n",
       "      <td>0.000472</td>\n",
       "      <td>0.006362</td>\n",
       "      <td>-0.001896</td>\n",
       "    </tr>\n",
       "    <tr>\n",
       "      <th>Tenure</th>\n",
       "      <td>-0.018585</td>\n",
       "      <td>0.000472</td>\n",
       "      <td>1.000000</td>\n",
       "      <td>-0.014552</td>\n",
       "      <td>0.894868</td>\n",
       "    </tr>\n",
       "    <tr>\n",
       "      <th>MonthlyCharges</th>\n",
       "      <td>-0.030504</td>\n",
       "      <td>0.006362</td>\n",
       "      <td>-0.014552</td>\n",
       "      <td>1.000000</td>\n",
       "      <td>0.304893</td>\n",
       "    </tr>\n",
       "    <tr>\n",
       "      <th>TotalCharges</th>\n",
       "      <td>-0.027490</td>\n",
       "      <td>-0.001896</td>\n",
       "      <td>0.894868</td>\n",
       "      <td>0.304893</td>\n",
       "      <td>1.000000</td>\n",
       "    </tr>\n",
       "  </tbody>\n",
       "</table>\n",
       "</div>"
      ],
      "text/plain": [
       "                CustomerID       Age    Tenure  MonthlyCharges  TotalCharges\n",
       "CustomerID        1.000000  0.036730 -0.018585       -0.030504     -0.027490\n",
       "Age               0.036730  1.000000  0.000472        0.006362     -0.001896\n",
       "Tenure           -0.018585  0.000472  1.000000       -0.014552      0.894868\n",
       "MonthlyCharges   -0.030504  0.006362 -0.014552        1.000000      0.304893\n",
       "TotalCharges     -0.027490 -0.001896  0.894868        0.304893      1.000000"
      ]
     },
     "execution_count": 17,
     "metadata": {},
     "output_type": "execute_result"
    }
   ],
   "source": [
    "numeric_columns_data.corr()"
   ]
  },
  {
   "cell_type": "markdown",
   "id": "a0574c81",
   "metadata": {},
   "source": [
    "#### Observations\n",
    "* Tenure and TotalCharges are highly correlated (0.89) - total charges are mostly dependent on how long a customer has stayed.\n",
    "* MonthlyCharges and TotalCharges show a moderate relationship (0.30) - some customers may have high monthly charges but short tenure.\n",
    "* CustomerID has no correlation - it should be excluded from model training.\n",
    "* Age shows negligible correlation with billing or tenure."
   ]
  },
  {
   "cell_type": "markdown",
   "id": "54474f0e",
   "metadata": {},
   "source": [
    "#### Churn Distribution"
   ]
  },
  {
   "cell_type": "code",
   "execution_count": 18,
   "id": "5e156140",
   "metadata": {},
   "outputs": [
    {
     "data": {
      "text/plain": [
       "Churn\n",
       "Yes    883\n",
       "No     117\n",
       "Name: count, dtype: int64"
      ]
     },
     "execution_count": 18,
     "metadata": {},
     "output_type": "execute_result"
    }
   ],
   "source": [
    "df[\"Churn\"].value_counts()"
   ]
  },
  {
   "cell_type": "code",
   "execution_count": 19,
   "id": "18985414",
   "metadata": {},
   "outputs": [
    {
     "data": {
      "text/plain": [
       "(array([0, 1]), [Text(0, 0, 'Yes'), Text(1, 0, 'No')])"
      ]
     },
     "execution_count": 19,
     "metadata": {},
     "output_type": "execute_result"
    },
    {
     "data": {
      "image/png": "[encoded data removed]",
      "text/plain": [
       "<Figure size 640x480 with 1 Axes>"
      ]
     },
     "metadata": {},
     "output_type": "display_data"
    }
   ],
   "source": [
    "df[\"Churn\"].value_counts().plot(kind=\"bar\",color=['brown', 'blueviolet'])\n",
    "plt.title(\"Churn Distribution\")\n",
    "plt.xlabel(\"Churn\")\n",
    "plt.ylabel(\"Number of Customers\")\n",
    "plt.xticks(rotation=0)"
   ]
  },
  {
   "cell_type": "markdown",
   "id": "4b7b728c",
   "metadata": {},
   "source": [
    "#### Understanding Churn Count vs Churn Rate\n",
    "\n",
    "- **Churn Count** shows how many customers left in each group.\n",
    "- **Churn Rate** shows what *percentage* of customers left in each group."
   ]
  },
  {
   "cell_type": "markdown",
   "id": "2c706cfe",
   "metadata": {},
   "source": [
    "#### Churn Distribution by Age Group"
   ]
  },
  {
   "cell_type": "code",
   "execution_count": 20,
   "id": "c0ce8d4f",
   "metadata": {},
   "outputs": [
    {
     "data": {
      "image/png": "[encoded data removed]",
      "text/plain": [
       "<Figure size 800x500 with 1 Axes>"
      ]
     },
     "metadata": {},
     "output_type": "display_data"
    }
   ],
   "source": [
    "# Define bins and labels inline\n",
    "age_bins = [12, 25, 35, 45, 55, 65, 85]\n",
    "age_labels = ['<25', '26-35', '36-45', '46-55', '56-65', '66+']\n",
    "\n",
    "# Create the plot\n",
    "plt.figure(figsize=(8, 5))\n",
    "sns.countplot(\n",
    "    x=pd.cut(df['Age'], bins=age_bins, labels=age_labels),\n",
    "    hue=df['Churn']\n",
    ")\n",
    "\n",
    "# Customize the chart\n",
    "plt.title('Churn Distribution by Age Group')\n",
    "plt.xlabel('Age Group')\n",
    "plt.ylabel('Number of Customers')\n",
    "plt.legend(title='Churn')\n",
    "plt.show()"
   ]
  },
  {
   "cell_type": "markdown",
   "id": "73cc3c51",
   "metadata": {},
   "source": [
    "#### Observations\n",
    "* Churn is highest among customers aged 36–45 and 46–55, indicating these are the most at-risk segments.\n",
    "* Customers below 25 show the lowest churn counts.\n",
    "* 56–65 age group shows moderate churn but very few retained customers."
   ]
  },
  {
   "cell_type": "markdown",
   "id": "79b095a1",
   "metadata": {},
   "source": [
    "#### Churn Distribution by Tenure Group"
   ]
  },
  {
   "cell_type": "code",
   "execution_count": 21,
   "id": "f69c7b77",
   "metadata": {},
   "outputs": [
    {
     "data": {
      "image/png": "[encoded data removed]",
      "text/plain": [
       "<Figure size 800x500 with 1 Axes>"
      ]
     },
     "metadata": {},
     "output_type": "display_data"
    }
   ],
   "source": [
    "# Define tenure bins and labels\n",
    "tenure_bins = [0, 12, 24, 48, 72, 130] \n",
    "tenure_labels = ['0-12', '13-24', '25-48', '49-72', '73+']\n",
    "\n",
    "# Create the plot\n",
    "plt.figure(figsize=(8, 5))\n",
    "sns.countplot(\n",
    "    x=pd.cut(df['Tenure'], bins=tenure_bins, labels=tenure_labels),\n",
    "    hue=df['Churn'],\n",
    "    palette=['#1f77b4', '#ff7f0e']\n",
    ")\n",
    "\n",
    "# Customize the chart\n",
    "plt.title('Churn Distribution by Tenure Group')\n",
    "plt.xlabel('Tenure Group (Months)')\n",
    "plt.ylabel('Number of Customers')\n",
    "plt.legend(title='Churn')\n",
    "plt.show()"
   ]
  },
  {
   "cell_type": "markdown",
   "id": "1799725c",
   "metadata": {},
   "source": [
    "#### Observations\n",
    "* Tenure group 0–12 months has the highest churn, indicating that most customers leave within their first year.\n",
    "* 13–24 and 25–48 month groups show a moderate churn drop, indicating that once customers cross the 1-year mark, their likelihood to churn gradually declines.\n",
    "*  The 73+ month group has the lowest churn, signaling successful long-term retention, likely due to service familiarity or commitment."
   ]
  },
  {
   "cell_type": "markdown",
   "id": "10594f79",
   "metadata": {},
   "source": [
    "#### Churn Distribution by Monthly Charges"
   ]
  },
  {
   "cell_type": "code",
   "execution_count": 22,
   "id": "54556602",
   "metadata": {},
   "outputs": [
    {
     "data": {
      "image/png": "[encoded data removed]",
      "text/plain": [
       "<Figure size 800x500 with 1 Axes>"
      ]
     },
     "metadata": {},
     "output_type": "display_data"
    }
   ],
   "source": [
    "# Define tenure bins and labels\n",
    "monthly_bins = [30, 50, 70, 90, 110, 130]\n",
    "monthly_labels = ['30–50', '51–70', '71–90', '91–110', '111+']\n",
    "\n",
    "# Create the plot\n",
    "plt.figure(figsize=(8, 5))\n",
    "sns.countplot(\n",
    "    x=pd.cut(df['MonthlyCharges'], bins=monthly_bins, labels=monthly_labels),\n",
    "    hue=df['Churn'],\n",
    "    palette=['#1f77b4', '#ff7f0e']\n",
    ")\n",
    "\n",
    "# Customize the chart\n",
    "plt.title('Churn Distribution by Monthly Charges')\n",
    "plt.xlabel('Monthly Charges')\n",
    "plt.ylabel('Number of Customers')\n",
    "plt.legend(title='Churn')\n",
    "plt.show()"
   ]
  },
  {
   "cell_type": "markdown",
   "id": "da7e30d7",
   "metadata": {},
   "source": [
    "#### Observations\n",
    "* Churn is consistently high across all price ranges, but especially dominant in the 91–110.\n",
    "* The 111+ monthly charges group shows zero retention, indicating that premium or expensive plans are struggling to retain customers\n",
    "* Low-charge segments (30–50) still experience notable churn, possibly indicating dissatisfaction even at basic service levels."
   ]
  },
  {
   "cell_type": "markdown",
   "id": "3d780cfc",
   "metadata": {},
   "source": [
    "#### Churn Distribution by Gender"
   ]
  },
  {
   "cell_type": "code",
   "execution_count": 23,
   "id": "4c0f568b",
   "metadata": {},
   "outputs": [
    {
     "data": {
      "image/png": "[encoded data removed]",
      "text/plain": [
       "<Figure size 700x500 with 1 Axes>"
      ]
     },
     "metadata": {},
     "output_type": "display_data"
    }
   ],
   "source": [
    "# Create the plot\n",
    "plt.figure(figsize=(7, 5))\n",
    "sns.countplot(\n",
    "    data=df,\n",
    "    x='Gender',\n",
    "    hue='Churn',\n",
    "    palette=['#1f77b4', '#ff7f0e']\n",
    ")\n",
    "\n",
    "# Customize the chart\n",
    "plt.title('Churn Distribution by Gender')\n",
    "plt.xlabel('Gender')\n",
    "plt.ylabel('Number of Customers')\n",
    "plt.legend(title='Churn')\n",
    "plt.show()"
   ]
  },
  {
   "cell_type": "markdown",
   "id": "811d01b0",
   "metadata": {},
   "source": [
    "#### Observations\n",
    "* Churn is high for both genders, but slightly more females have churned than males.\n",
    "* Retention (Churn = No) is slightly better among females compared to males, though the difference is not substantial."
   ]
  },
  {
   "cell_type": "markdown",
   "id": "c067c98a",
   "metadata": {},
   "source": [
    "#### Churn Rate by Age Group"
   ]
  },
  {
   "cell_type": "code",
   "execution_count": 24,
   "id": "c5da0b98",
   "metadata": {},
   "outputs": [
    {
     "data": {
      "image/png": "[encoded data removed]",
      "text/plain": [
       "<Figure size 800x500 with 1 Axes>"
      ]
     },
     "metadata": {},
     "output_type": "display_data"
    }
   ],
   "source": [
    "# Compute churn rate per age group\n",
    "age_churn = df[df['Churn'] == 'Yes'].groupby(pd.cut(df['Age'], bins=age_bins, labels=age_labels)).size()\n",
    "age_total = df.groupby(pd.cut(df['Age'], bins=age_bins, labels=age_labels)).size()\n",
    "age_churn_rate = (age_churn / age_total * 100).round(2)\n",
    "\n",
    "# Plot\n",
    "plt.figure(figsize=(8, 5))\n",
    "age_churn_rate.plot(kind='bar', color='skyblue', edgecolor='black')\n",
    "plt.title('Churn Rate by Age Group')\n",
    "plt.xlabel('Age Group')\n",
    "plt.ylabel('Churn Rate (%)')\n",
    "plt.xticks(rotation=0)\n",
    "plt.show()"
   ]
  },
  {
   "cell_type": "markdown",
   "id": "993984e0",
   "metadata": {},
   "source": [
    "#### Observations\n",
    "* Customers aged 66+ have the highest churn rate. \n",
    "* The 56–65 age group also shows elevated churn, suggesting older customers are more prone to leaving.\n",
    "* Younger groups (<25, 26–35) have slightly lower churn rates but still reflect notable risk."
   ]
  },
  {
   "cell_type": "markdown",
   "id": "4e4e6bea",
   "metadata": {},
   "source": [
    "#### Churn Rate by Monthly Charges"
   ]
  },
  {
   "cell_type": "code",
   "execution_count": 25,
   "id": "9af553c2",
   "metadata": {},
   "outputs": [
    {
     "data": {
      "image/png": "[encoded data removed]",
      "text/plain": [
       "<Figure size 800x500 with 1 Axes>"
      ]
     },
     "metadata": {},
     "output_type": "display_data"
    }
   ],
   "source": [
    "# Compute churn rate per MonthlyCharges\n",
    "monthly_churn = df[df['Churn'] == 'Yes'].groupby(pd.cut(df['MonthlyCharges'], bins=monthly_bins, labels=monthly_labels)).size()\n",
    "monthly_total = df.groupby(pd.cut(df['MonthlyCharges'], bins=monthly_bins, labels=monthly_labels)).size()\n",
    "monthly_churn_rate = (monthly_churn / monthly_total * 100).round(2)\n",
    "\n",
    "# Plot\n",
    "plt.figure(figsize=(8, 5))\n",
    "monthly_churn_rate.plot(kind='bar', color='salmon', edgecolor='black')\n",
    "plt.title('Churn Rate by Monthly Charges')\n",
    "plt.xlabel('Monthly Charges Group')\n",
    "plt.ylabel('Churn Rate (%)')\n",
    "plt.xticks(rotation=0)\n",
    "plt.show()"
   ]
  },
  {
   "cell_type": "markdown",
   "id": "f9d3135f",
   "metadata": {},
   "source": [
    "#### Observations\n",
    "* Customers paying over 111 have a high churn rate, the highest among all groups, indicating serious dissatisfaction or affordability issues in premium tiers.\n",
    "* Lower-paying groups (30–70) have slightly lower churn rates (~82–85%), showing relatively better retention.\n",
    "* The 91–110 range already approaches ~93% churn — this shows retention starts breaking down even before the top charges."
   ]
  },
  {
   "cell_type": "markdown",
   "id": "bc9107fd",
   "metadata": {},
   "source": [
    "#### Correlation Heatmap"
   ]
  },
  {
   "cell_type": "code",
   "execution_count": 26,
   "id": "b70247f0",
   "metadata": {},
   "outputs": [
    {
     "data": {
      "image/png": "[encoded data removed]",
      "text/plain": [
       "<Figure size 640x480 with 2 Axes>"
      ]
     },
     "metadata": {},
     "output_type": "display_data"
    }
   ],
   "source": [
    "df_corr = pd.concat([X, y], axis=1)\n",
    "sns.heatmap(df_corr.corr(), annot=True, cmap='coolwarm', fmt=\".2f\")\n",
    "plt.title(\"Correlation Heatmap\")\n",
    "plt.tight_layout()"
   ]
  },
  {
   "cell_type": "markdown",
   "id": "928464bc",
   "metadata": {},
   "source": [
    "#### Observations\n",
    "* Tenure has a negative correlation (-0.22) with churn – longer-term customers are less likely to leave.\n",
    "* MonthlyCharges positively correlates (0.17) with churn – higher charges may lead to more churn.\n",
    "* Gender and Age show very weak correlation with churn."
   ]
  },
  {
   "cell_type": "markdown",
   "id": "852bdb39",
   "metadata": {},
   "source": [
    "#### Machine Learning Models for Churn Prediction"
   ]
  },
  {
   "cell_type": "markdown",
   "id": "430ffa83",
   "metadata": {},
   "source": [
    "#### XGBClassifier (eXtreme Gradient Boosting)"
   ]
  },
  {
   "cell_type": "code",
   "execution_count": 27,
   "id": "addbd71c",
   "metadata": {},
   "outputs": [
    {
     "name": "stdout",
     "output_type": "stream",
     "text": [
      " Best Parameters: {'colsample_bytree': 1, 'learning_rate': 0.01, 'max_depth': 10, 'n_estimators': 200, 'subsample': 0.8}\n",
      " Classification Report:\n",
      "               precision    recall  f1-score   support\n",
      "\n",
      "           0       0.50      0.04      0.08        23\n",
      "           1       0.89      0.99      0.94       177\n",
      "\n",
      "    accuracy                           0.89       200\n",
      "   macro avg       0.69      0.52      0.51       200\n",
      "weighted avg       0.84      0.89      0.84       200\n",
      "\n",
      " Confusion Matrix:\n",
      " [[  1  22]\n",
      " [  1 176]]\n"
     ]
    }
   ],
   "source": [
    "# Split the dataset\n",
    "X_train, X_test, y_train, y_test = train_test_split(X, y, stratify=y, test_size=0.2, random_state=42)\n",
    "\n",
    "# XGB parameters \n",
    "XGB_params = {\n",
    "    \"n_estimators\": [100, 200],\n",
    "    \"max_depth\": [5, 10],\n",
    "    \"learning_rate\": [0.01, 0.1],\n",
    "    \"subsample\": [0.8, 1],\n",
    "    \"colsample_bytree\": [0.8, 1]\n",
    "}\n",
    "\n",
    "# Initialize XGBoost model\n",
    "model = XGBClassifier(random_state=42, use_label_encoder=False, eval_metric='logloss')\n",
    "\n",
    "# Train model with GridSearchCV\n",
    "grid_XGB = GridSearchCV(model, XGB_params, scoring=\"f1_weighted\", cv=5, n_jobs=-1)\n",
    "grid_XGB.fit(X_train, y_train)\n",
    "\n",
    "# Predict on test data\n",
    "y_pred = grid_XGB.predict(X_test)\n",
    "\n",
    "# Evaluate model\n",
    "print(\" Best Parameters:\", grid_XGB.best_params_)\n",
    "print(\" Classification Report:\\n\", classification_report(y_test, y_pred, digits=2))\n",
    "print(\" Confusion Matrix:\\n\", confusion_matrix(y_test, y_pred))"
   ]
  },
  {
   "cell_type": "markdown",
   "id": "2ac21333",
   "metadata": {},
   "source": [
    "#### Observations\n",
    "* Precision = 0.50, Recall = 0.04 for class 0 (Not Churned), which means the model is failing to correctly identify customers who are not likely to churn.\n",
    "* Although churn prediction focuses on detecting churners (class 1), it is important to maintain balance across both classes.\n",
    "* If the model misclassifies too many loyal customers as churners, it may lead to unnecessary retention efforts and wasted business resources.\n"
   ]
  },
  {
   "cell_type": "markdown",
   "id": "bd222a76",
   "metadata": {},
   "source": [
    "#### The dataset exhibits significant class imbalance, leading to poor performance on the minority class. To enhance model learning and ensure balanced representation, we apply SMOTE for balance the classes and enhance model reliability."
   ]
  },
  {
   "cell_type": "markdown",
   "id": "639e9a08",
   "metadata": {},
   "source": [
    "#### XGB Classifier With SMOTE"
   ]
  },
  {
   "cell_type": "code",
   "execution_count": 28,
   "id": "1a90e932",
   "metadata": {},
   "outputs": [
    {
     "name": "stdout",
     "output_type": "stream",
     "text": [
      " Best Parameters: {'colsample_bytree': 1, 'learning_rate': 0.1, 'max_depth': 10, 'n_estimators': 100, 'subsample': 0.8}\n",
      " Classification Report:\n",
      "               precision    recall  f1-score   support\n",
      "\n",
      "           0       0.31      0.65      0.42        23\n",
      "           1       0.95      0.81      0.87       177\n",
      "\n",
      "    accuracy                           0.79       200\n",
      "   macro avg       0.63      0.73      0.64       200\n",
      "weighted avg       0.87      0.79      0.82       200\n",
      "\n",
      " Accuracy Score: 0.79\n",
      " AUC-ROC Score: 0.84\n",
      " Confusion Matrix:\n",
      " [[ 15   8]\n",
      " [ 34 143]]\n"
     ]
    }
   ],
   "source": [
    "# Split the dataset\n",
    "X_train, X_test, y_train, y_test = train_test_split(X, y, stratify=y, test_size=0.2, random_state=42)\n",
    "\n",
    "# SMOTE to balance\n",
    "smote = SMOTE(random_state=42)\n",
    "X_train_sm, y_train_sm = smote.fit_resample(X_train, y_train)\n",
    "\n",
    "# XGB parameters \n",
    "XGB_params = {\n",
    "    \"n_estimators\": [100, 200],\n",
    "    \"max_depth\": [5, 10],\n",
    "    \"learning_rate\": [0.01, 0.1],\n",
    "    \"subsample\": [0.8, 1],\n",
    "    \"colsample_bytree\": [0.8, 1]\n",
    "}\n",
    "\n",
    "# Initialize XGBoost model\n",
    "model = XGBClassifier(random_state=42, use_label_encoder=False, eval_metric='logloss')\n",
    "\n",
    "# Train model with GridSearchCV\n",
    "grid_XGB = GridSearchCV(model, XGB_params, scoring=\"f1_weighted\", cv=5, n_jobs=-1)\n",
    "grid_XGB.fit(X_train_sm, y_train_sm)\n",
    "\n",
    "# Predict on test data\n",
    "y_pred = grid_XGB.predict(X_test)\n",
    "y_proba = grid_XGB.predict_proba(X_test)[:, 1]\n",
    "\n",
    "# Metrics\n",
    "acc = accuracy_score(y_test, y_pred)\n",
    "auc = roc_auc_score(y_test, y_proba)\n",
    "\n",
    "# Evaluate model\n",
    "print(\" Best Parameters:\", grid_XGB.best_params_)\n",
    "print(\" Classification Report:\\n\", classification_report(y_test, y_pred, digits=2))\n",
    "print(\" Accuracy Score:\", round(acc, 2))\n",
    "print(\" AUC-ROC Score:\", round(auc, 2))\n",
    "print(\" Confusion Matrix:\\n\", confusion_matrix(y_test, y_pred))"
   ]
  },
  {
   "cell_type": "markdown",
   "id": "dcfcd56f",
   "metadata": {},
   "source": [
    "#### Random Forest Classifier With SMOTE"
   ]
  },
  {
   "cell_type": "code",
   "execution_count": 29,
   "id": "3148c945",
   "metadata": {},
   "outputs": [
    {
     "name": "stdout",
     "output_type": "stream",
     "text": [
      " Best Parameters: {'bootstrap': True, 'max_depth': 15, 'max_features': 'sqrt', 'min_samples_leaf': 1, 'min_samples_split': 2, 'n_estimators': 200}\n",
      " Classification Report:\n",
      "               precision    recall  f1-score   support\n",
      "\n",
      "           0       0.38      0.78      0.51        23\n",
      "           1       0.97      0.84      0.90       177\n",
      "\n",
      "    accuracy                           0.83       200\n",
      "   macro avg       0.68      0.81      0.71       200\n",
      "weighted avg       0.90      0.83      0.85       200\n",
      "\n",
      " Accuracy Score: 0.83\n",
      " AUC-ROC Score: 0.86\n",
      " Confusion Matrix:\n",
      " [[ 18   5]\n",
      " [ 29 148]]\n"
     ]
    }
   ],
   "source": [
    "# Random Forest parameters\n",
    "rf_params = {\n",
    "    \"n_estimators\": [100, 200],\n",
    "    \"max_depth\": [5, 10, 15],\n",
    "    \"min_samples_split\": [2, 5],\n",
    "    \"min_samples_leaf\": [1, 2],\n",
    "    \"max_features\": [\"sqrt\"],\n",
    "    \"bootstrap\": [True]\n",
    "}\n",
    "\n",
    "# Initialize Random Forest model\n",
    "model = RandomForestClassifier(random_state=42, class_weight=\"balanced\")\n",
    "\n",
    "# Train model with GridSearchCV\n",
    "grid_rf = GridSearchCV(model, rf_params, scoring=\"f1_weighted\", cv=5, n_jobs=-1)\n",
    "grid_rf.fit(X_train_sm, y_train_sm)\n",
    "\n",
    "# Predict on test data\n",
    "y_pred = grid_rf.predict(X_test)\n",
    "y_proba = grid_rf.predict_proba(X_test)[:, 1]\n",
    "\n",
    "# Metrics\n",
    "acc = accuracy_score(y_test, y_pred)\n",
    "auc = roc_auc_score(y_test, y_proba)\n",
    "\n",
    "# Evaluate model\n",
    "print(\" Best Parameters:\", grid_rf.best_params_)\n",
    "print(\" Classification Report:\\n\", classification_report(y_test, y_pred, digits=2))\n",
    "print(\" Accuracy Score:\", round(acc, 2))\n",
    "print(\" AUC-ROC Score:\", round(auc, 2))\n",
    "print(\" Confusion Matrix:\\n\", confusion_matrix(y_test, y_pred))"
   ]
  },
  {
   "cell_type": "markdown",
   "id": "2f1360c1",
   "metadata": {},
   "source": [
    "#### Gradient Boosting Classifier With SMOTE"
   ]
  },
  {
   "cell_type": "code",
   "execution_count": 30,
   "id": "618a50f2",
   "metadata": {},
   "outputs": [
    {
     "name": "stdout",
     "output_type": "stream",
     "text": [
      " Best Parameters: {'learning_rate': 0.1, 'max_depth': 10, 'min_samples_leaf': 2, 'min_samples_split': 2, 'n_estimators': 200}\n",
      " Classification Report:\n",
      "               precision    recall  f1-score   support\n",
      "\n",
      "           0       0.42      0.74      0.54        23\n",
      "           1       0.96      0.87      0.91       177\n",
      "\n",
      "    accuracy                           0.85       200\n",
      "   macro avg       0.69      0.80      0.73       200\n",
      "weighted avg       0.90      0.85      0.87       200\n",
      "\n",
      " Accuracy Score: 0.85\n",
      " AUC-ROC Score: 0.85\n",
      " Confusion Matrix:\n",
      " [[ 17   6]\n",
      " [ 23 154]]\n"
     ]
    }
   ],
   "source": [
    "# Gradient Boosting parameters\n",
    "gb_params = {\n",
    "    \"n_estimators\": [100, 200],\n",
    "    \"learning_rate\": [0.05, 0.1],\n",
    "    \"max_depth\": [3, 5, 10],\n",
    "    \"min_samples_split\": [2, 5],\n",
    "    \"min_samples_leaf\": [1, 2]\n",
    "}\n",
    "\n",
    "# Initialize GradientBoosting model\n",
    "model = GradientBoostingClassifier(random_state=42)\n",
    "\n",
    "# Train model with GridSearchCV\n",
    "grid_gb = GridSearchCV(model, gb_params, scoring=\"f1_weighted\", cv=5, n_jobs=-1)\n",
    "grid_gb.fit(X_train_sm, y_train_sm)\n",
    "\n",
    "# Predict on test data\n",
    "y_pred = grid_gb.predict(X_test)\n",
    "y_proba = grid_gb.predict_proba(X_test)[:, 1]\n",
    "\n",
    "# Metrics\n",
    "acc = accuracy_score(y_test, y_pred)\n",
    "auc = roc_auc_score(y_test, y_proba)\n",
    "\n",
    "# Evaluate model\n",
    "print(\" Best Parameters:\", grid_gb.best_params_)\n",
    "print(\" Classification Report:\\n\", classification_report(y_test, y_pred, digits=2))\n",
    "print(\" Accuracy Score:\", round(acc, 2))\n",
    "print(\" AUC-ROC Score:\", round(auc, 2))\n",
    "print(\" Confusion Matrix:\\n\", confusion_matrix(y_test, y_pred))"
   ]
  },
  {
   "cell_type": "markdown",
   "id": "466b6bfc",
   "metadata": {},
   "source": [
    "#### Cat Boost Classifier With SMOTE"
   ]
  },
  {
   "cell_type": "code",
   "execution_count": 31,
   "id": "0d0f56fe",
   "metadata": {},
   "outputs": [
    {
     "name": "stdout",
     "output_type": "stream",
     "text": [
      " Best Parameters: {'depth': 8, 'iterations': 200, 'l2_leaf_reg': 1, 'learning_rate': 0.1}\n",
      " Classification Report:\n",
      "               precision    recall  f1-score   support\n",
      "\n",
      "           0       0.33      0.65      0.44        23\n",
      "           1       0.95      0.83      0.89       177\n",
      "\n",
      "    accuracy                           0.81       200\n",
      "   macro avg       0.64      0.74      0.66       200\n",
      "weighted avg       0.88      0.81      0.83       200\n",
      "\n",
      " Accuracy Score: 0.81\n",
      " AUC-ROC Score: 0.84\n",
      " Confusion Matrix:\n",
      " [[ 15   8]\n",
      " [ 30 147]]\n"
     ]
    }
   ],
   "source": [
    "# CatBoost parameters\n",
    "cb_params = {\n",
    "    'iterations': [100, 200],\n",
    "    'depth': [4, 6, 8],\n",
    "    'learning_rate': [0.03, 0.1],\n",
    "    'l2_leaf_reg': [1, 3, 5]\n",
    "}\n",
    "\n",
    "# Initialize CatBoost model\n",
    "model = CatBoostClassifier(verbose=0, random_state=42)\n",
    "\n",
    "# Train model with GridSearchCV\n",
    "grid_cb = GridSearchCV(model, cb_params, scoring=\"f1_weighted\", cv=5, n_jobs=-1)\n",
    "grid_cb.fit(X_train_sm, y_train_sm)\n",
    "\n",
    "# Predict on test data\n",
    "y_pred = grid_cb.predict(X_test)\n",
    "y_proba = grid_cb.predict_proba(X_test)[:, 1]\n",
    "\n",
    "# Metrics\n",
    "acc = accuracy_score(y_test, y_pred)\n",
    "auc = roc_auc_score(y_test, y_proba)\n",
    "\n",
    "# Evaluate model\n",
    "print(\" Best Parameters:\", grid_cb.best_params_)\n",
    "print(\" Classification Report:\\n\", classification_report(y_test, y_pred, digits=2))\n",
    "print(\" Accuracy Score:\", round(acc, 2))\n",
    "print(\" AUC-ROC Score:\", round(auc, 2))\n",
    "print(\" Confusion Matrix:\\n\", confusion_matrix(y_test, y_pred))"
   ]
  },
  {
   "cell_type": "markdown",
   "id": "8b33c988",
   "metadata": {},
   "source": [
    "#### Decision Tree Classifier"
   ]
  },
  {
   "cell_type": "code",
   "execution_count": 32,
   "id": "06c0a53d",
   "metadata": {},
   "outputs": [
    {
     "name": "stdout",
     "output_type": "stream",
     "text": [
      " Best Parameters: {'criterion': 'gini', 'max_depth': 10, 'min_samples_leaf': 1, 'min_samples_split': 2}\n",
      " Classification Report:\n",
      "               precision    recall  f1-score   support\n",
      "\n",
      "           0       0.30      0.70      0.42        23\n",
      "           1       0.95      0.79      0.86       177\n",
      "\n",
      "    accuracy                           0.78       200\n",
      "   macro avg       0.63      0.74      0.64       200\n",
      "weighted avg       0.88      0.78      0.81       200\n",
      "\n",
      " Accuracy Score: 0.78\n",
      " AUC-ROC Score: 0.78\n",
      " Confusion Matrix:\n",
      " [[ 16   7]\n",
      " [ 37 140]]\n"
     ]
    }
   ],
   "source": [
    "# Decision Tree parameters\n",
    "dt_params = {\n",
    "    \"max_depth\": [5, 10, 15],\n",
    "    \"min_samples_split\": [2, 5, 10],\n",
    "    \"min_samples_leaf\": [1, 2, 4],\n",
    "    \"criterion\": [\"gini\", \"entropy\"]\n",
    "}\n",
    "\n",
    "# Initialize Decion Tree model\n",
    "model = DecisionTreeClassifier(random_state=42, class_weight=\"balanced\")\n",
    "\n",
    "# Train model with GridSearchCV\n",
    "grid_dt = GridSearchCV(model, dt_params, scoring=\"f1_weighted\", cv=5, n_jobs=-1)\n",
    "grid_dt.fit(X_train_sm, y_train_sm)\n",
    "\n",
    "# Predict on test data\n",
    "y_pred = grid_dt.predict(X_test)\n",
    "y_proba = grid_dt.predict_proba(X_test)[:, 1]\n",
    "\n",
    "# Metrics\n",
    "acc = accuracy_score(y_test, y_pred)\n",
    "auc = roc_auc_score(y_test, y_proba)\n",
    "\n",
    "# Evaluate model\n",
    "print(\" Best Parameters:\", grid_dt.best_params_)\n",
    "print(\" Classification Report:\\n\", classification_report(y_test, y_pred, digits=2))\n",
    "print(\" Accuracy Score:\", round(acc, 2))\n",
    "print(\" AUC-ROC Score:\", round(auc, 2))\n",
    "print(\" Confusion Matrix:\\n\", confusion_matrix(y_test, y_pred))"
   ]
  },
  {
   "cell_type": "markdown",
   "id": "b4246a80",
   "metadata": {},
   "source": [
    "#### Model Comparison for Churn Prediction\n",
    "| Model                 | F1-Score (Churn=1) | Recall (Churn=1) | Precision (Churn=1) | Accuracy | AUC-ROC  |\n",
    "| --------------------- | ------------------ | ---------------- | ------------------- | -------- | -------- |\n",
    "| **Gradient Boosting** | 0.91               | 0.87             | 0.96                | 0.85     | 0.85     |\n",
    "| **Random Forest**     | 0.90               | 0.84             | 0.97                | 0.83     | 0.86     |\n",
    "| **CatBoost**          | 0.89               | 0.83             | 0.95                | 0.81     | 0.84     |\n",
    "| **XGBoost**           | 0.87               | 0.81             | 0.95                | 0.79     | 0.84     |\n",
    "| **Decision Tree**     | 0.86               | 0.79             | 0.95                | 0.78     | 0.78     |\n"
   ]
  },
  {
   "cell_type": "markdown",
   "id": "581a08d5",
   "metadata": {},
   "source": [
    "#### Final Model Selection: Gradient Boosting Classifier"
   ]
  },
  {
   "cell_type": "markdown",
   "id": "9a096957",
   "metadata": {},
   "source": [
    "#### Reasons For Selecting Gradient Boosting Classifier\n",
    "* **Superior F1-score (0.91):** Indicates an excellent balance between precision and recall, critical for imbalanced churn data, where both false positives and false negatives are costly.\n",
    "* **Highest Accuracy (0.85):** Reflects strong overall performance, minimizing misclassifications across both churned and non-churned customers.\n",
    "* **Robust Precision (0.96):** Shows high confidence in predicting churners (class 1), meaning fewer false positives and more targeted retention efforts.\n",
    "* **Excellent AUC (0.85):** Demonstrates the model’s strong ability to separate churners from non-churners, supporting reliable decision-making.\n",
    "* **Reasonable Performance on Non-Churned Class (F1-score: 0.54):** Despite class imbalance, the model still achieves decent identification of non-churned customers (class 0), ensuring balanced attention across both customer types.\n",
    "\n",
    "In summary, Gradient Boosting delivers the most consistent and reliable performance across key metrics, making it the definitive model for churn prediction."
   ]
  },
  {
   "cell_type": "markdown",
   "id": "8ff0ebd3",
   "metadata": {},
   "source": [
    "#### Save Model for Deployment"
   ]
  },
  {
   "cell_type": "code",
   "execution_count": 33,
   "id": "d1ceaea0",
   "metadata": {},
   "outputs": [
    {
     "data": {
      "text/plain": [
       "['churn_gb_model_.pkl']"
      ]
     },
     "execution_count": 33,
     "metadata": {},
     "output_type": "execute_result"
    }
   ],
   "source": [
    "# Step 1: Get best model from GridSearchCV\n",
    "best_model = grid_gb.best_estimator_\n",
    "\n",
    "# Step 2: Save it\n",
    "joblib.dump(best_model, \"churn_gb_model_.pkl\")"
   ]
  },
  {
   "cell_type": "markdown",
   "id": "8c04a3f6",
   "metadata": {},
   "source": [
    "#### Key Insights\n",
    "* Customers with lower tenure  are more likely to churn, early engagement is critical.\n",
    "* High monthly charges correlate with increased churn.\n",
    "* Customers with high bills and short tenure are at highest risk.\n",
    "* Senior Citizens show slightly higher churn rates than younger customers."
   ]
  },
  {
   "cell_type": "markdown",
   "id": "4333b4db",
   "metadata": {},
   "source": [
    "#### Recommendations\n",
    "* Churned customers pay higher charges. Reviewing pricing plans or providing promotions/discounts to retain these high-risk, high-paying customers.\n",
    "* Churn increases with age; consider designing age-specific loyalty programs or promotions.\n",
    "* Consider onboarding initiatives such as “welcome packages”, “quick start guides”, or “new-customer incentives” to help first-year customers find more value in your service.\n",
    "* Offer gifts or discounts to celebrate tenure milestones at 3, 6, and 12 months."
   ]
  }
 ],
 "metadata": {
  "kernelspec": {
   "display_name": "Python 3 (ipykernel)",
   "language": "python",
   "name": "python3"
  },
  "language_info": {
   "codemirror_mode": {
    "name": "ipython",
    "version": 3
   },
   "file_extension": ".py",
   "mimetype": "text/x-python",
   "name": "python",
   "nbconvert_exporter": "python",
   "pygments_lexer": "ipython3",
   "version": "3.11.5"
  }
 },
 "nbformat": 4,
 "nbformat_minor": 5
}
